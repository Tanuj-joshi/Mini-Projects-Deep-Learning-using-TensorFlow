{
 "cells": [
  {
   "cell_type": "markdown",
   "metadata": {},
   "source": [
    "#### In this notebook we’ll get the BBC text archive. Our job is to tokenize the dataset, removing common stopwords. A great source of these stop words can be found [here](https://github.com/Yoast/YoastSEO.js/blob/develop/src/config/stopwords.js).\n",
    "####  This BBC news reports dataset contains articles that are classified into a number of different categories.\n",
    "####  Design a neural network that can be trained on this dataset to accurately determine what words determine what category. \n",
    "####  Create the vecs.tsv and meta.tsv files and load them into the embedding projector."
   ]
  },
  {
   "cell_type": "code",
   "execution_count": 19,
   "metadata": {
    "id": "gnwiOnGyW5JK"
   },
   "outputs": [],
   "source": [
    "# Import libraries\n",
    "import csv\n",
    "import tensorflow as tf\n",
    "import numpy as np\n",
    "from tensorflow.keras.preprocessing.text import Tokenizer\n",
    "from tensorflow.keras.preprocessing.sequence import pad_sequences\n",
    "import matplotlib.pyplot as plt\n",
    "import io"
   ]
  },
  {
   "cell_type": "markdown",
   "metadata": {},
   "source": [
    "Import Dataset"
   ]
  },
  {
   "cell_type": "code",
   "execution_count": null,
   "metadata": {},
   "outputs": [],
   "source": [
    "# Download the .csv file from bbc news report\n",
    "# !wget --no-check-certificate \\\n",
    "#     https://storage.googleapis.com/laurencemoroney-blog.appspot.com/bbc-text.csv \\\n",
    "#     -O D:/Tanuj/Projects/Deep_Learning_TensorFlow/Natural-Language-Processing-in-TensorFlow/bbc-text.csv"
   ]
  },
  {
   "cell_type": "code",
   "execution_count": 6,
   "metadata": {
    "id": "EYo6A4v5ZABQ"
   },
   "outputs": [],
   "source": [
    "vocab_size = 1000          # Define the vocabulary size to be used by the tokenizer.\n",
    "embedding_dim = 16         # Dimension of the dense embedding. Each word will be represented as a 16-dimensional vector.\n",
    "max_length = 120           # Maximum length of all sequences. Sequences longer than this will be truncated, and shorter ones will be padded.\n",
    "trunc_type = 'post'        # Truncate sequences from the end (post) if they exceed the maximum length.\n",
    "padding_type = 'post'      # Pad sequences at the end (post) to ensure all sequences are of the same length.\n",
    "oov_tok = \"<OOV>\"          # Token used to represent words that are out-of-vocabulary (i.e., not present in the training set).\n",
    "training_portion = .8      # (80:20) (train:val) dataset split"
   ]
  },
  {
   "cell_type": "code",
   "execution_count": 7,
   "metadata": {
    "id": "iU1qq3_SZBx_"
   },
   "outputs": [
    {
     "name": "stdout",
     "output_type": "stream",
     "text": [
      "153\n"
     ]
    }
   ],
   "source": [
    "sentences = []\n",
    "labels = []\n",
    "stopwords = [ \"a\", \"about\", \"above\", \"after\", \"again\", \"against\", \"all\", \"am\", \"an\", \"and\", \"any\", \"are\", \"as\", \"at\", \"be\", \"because\", \"been\", \"before\", \"being\", \"below\", \"between\", \"both\", \"but\", \"by\", \"could\", \"did\", \"do\", \"does\", \"doing\", \"down\", \"during\", \"each\", \"few\", \"for\", \"from\", \"further\", \"had\", \"has\", \"have\", \"having\", \"he\", \"he'd\", \"he'll\", \"he's\", \"her\", \"here\", \"here's\", \"hers\", \"herself\", \"him\", \"himself\", \"his\", \"how\", \"how's\", \"i\", \"i'd\", \"i'll\", \"i'm\", \"i've\", \"if\", \"in\", \"into\", \"is\", \"it\", \"it's\", \"its\", \"itself\", \"let's\", \"me\", \"more\", \"most\", \"my\", \"myself\", \"nor\", \"of\", \"on\", \"once\", \"only\", \"or\", \"other\", \"ought\", \"our\", \"ours\", \"ourselves\", \"out\", \"over\", \"own\", \"same\", \"she\", \"she'd\", \"she'll\", \"she's\", \"should\", \"so\", \"some\", \"such\", \"than\", \"that\", \"that's\", \"the\", \"their\", \"theirs\", \"them\", \"themselves\", \"then\", \"there\", \"there's\", \"these\", \"they\", \"they'd\", \"they'll\", \"they're\", \"they've\", \"this\", \"those\", \"through\", \"to\", \"too\", \"under\", \"until\", \"up\", \"very\", \"was\", \"we\", \"we'd\", \"we'll\", \"we're\", \"we've\", \"were\", \"what\", \"what's\", \"when\", \"when's\", \"where\", \"where's\", \"which\", \"while\", \"who\", \"who's\", \"whom\", \"why\", \"why's\", \"with\", \"would\", \"you\", \"you'd\", \"you'll\", \"you're\", \"you've\", \"your\", \"yours\", \"yourself\", \"yourselves\" ]\n",
    "print(len(stopwords))"
   ]
  },
  {
   "cell_type": "markdown",
   "metadata": {},
   "source": [
    "Now, we will read bbc file using a csv reader and after removing all stopwords from each sentance, create a list of lables and sentances"
   ]
  },
  {
   "cell_type": "code",
   "execution_count": 8,
   "metadata": {},
   "outputs": [
    {
     "name": "stdout",
     "output_type": "stream",
     "text": [
      "2225\n",
      "2225\n",
      "tv future hands viewers home theatre systems  plasma high-definition tvs  digital video recorders moving living room  way people watch tv will radically different five years  time.  according expert panel gathered annual consumer electronics show las vegas discuss new technologies will impact one favourite pastimes. us leading trend  programmes content will delivered viewers via home networks  cable  satellite  telecoms companies  broadband service providers front rooms portable devices.  one talked-about technologies ces digital personal video recorders (dvr pvr). set-top boxes  like us s tivo uk s sky+ system  allow people record  store  play  pause forward wind tv programmes want.  essentially  technology allows much personalised tv. also built-in high-definition tv sets  big business japan us  slower take off europe lack high-definition programming. not can people forward wind adverts  can also forget abiding network channel schedules  putting together a-la-carte entertainment. us networks cable satellite companies worried means terms advertising revenues well  brand identity  viewer loyalty channels. although us leads technology moment  also concern raised europe  particularly growing uptake services like sky+.  happens today  will see nine months years  time uk   adam hume  bbc broadcast s futurologist told bbc news website. likes bbc  no issues lost advertising revenue yet. pressing issue moment commercial uk broadcasters  brand loyalty important everyone.  will talking content brands rather network brands   said tim hanlon  brand communications firm starcom mediavest.  reality broadband connections  anybody can producer content.  added:  challenge now hard promote programme much choice.   means  said stacey jolna  senior vice president tv guide tv group  way people find content want watch simplified tv viewers. means networks  us terms  channels take leaf google s book search engine future  instead scheduler help people find want watch. kind channel model might work younger ipod generation used taking control gadgets play them. might not suit everyone  panel recognised. older generations comfortable familiar schedules channel brands know getting. perhaps not want much choice put hands  mr hanlon suggested.  end  kids just diapers pushing buttons already - everything possible available   said mr hanlon.  ultimately  consumer will tell market want.   50 000 new gadgets technologies showcased ces  many enhancing tv-watching experience. high-definition tv sets everywhere many new models lcd (liquid crystal display) tvs launched dvr capability built  instead external boxes. one example launched show humax s 26-inch lcd tv 80-hour tivo dvr dvd recorder. one us s biggest satellite tv companies  directtv  even launched branded dvr show 100-hours recording capability  instant replay  search function. set can pause rewind tv 90 hours. microsoft chief bill gates announced pre-show keynote speech partnership tivo  called tivotogo  means people can play recorded programmes windows pcs mobile devices. reflect increasing trend freeing multimedia people can watch want  want.\n"
     ]
    }
   ],
   "source": [
    "with open(\"bbc_dataset/bbc-text.csv\", 'r') as csvfile:\n",
    "    reader = csv.reader(csvfile, delimiter=',')\n",
    "    next(reader)\n",
    "    for row in reader:\n",
    "        labels.append(row[0])\n",
    "        sentence = row[1]\n",
    "        for word in stopwords:\n",
    "            token = \" \" + word + \" \"\n",
    "            sentence = sentence.replace(token, \" \")\n",
    "        sentences.append(sentence)\n",
    "\n",
    "print(len(labels))\n",
    "print(len(sentences))\n",
    "print(sentences[0])"
   ]
  },
  {
   "cell_type": "markdown",
   "metadata": {},
   "source": [
    "Define Train-Validation Split"
   ]
  },
  {
   "cell_type": "code",
   "execution_count": 9,
   "metadata": {
    "id": "XfdaWh06ZGe3"
   },
   "outputs": [
    {
     "name": "stdout",
     "output_type": "stream",
     "text": [
      "1780\n",
      "1780\n",
      "1780\n",
      "445\n",
      "445\n"
     ]
    }
   ],
   "source": [
    "train_size = int(len(sentences) * training_portion)\n",
    "\n",
    "train_sentences = sentences[:train_size]\n",
    "train_labels = labels[:train_size]\n",
    "\n",
    "validation_sentences = sentences[train_size:]\n",
    "validation_labels = labels[train_size:]\n",
    "\n",
    "print(train_size)\n",
    "print(len(train_sentences))\n",
    "print(len(train_labels))\n",
    "print(len(validation_sentences))\n",
    "print(len(validation_labels))"
   ]
  },
  {
   "cell_type": "code",
   "execution_count": 10,
   "metadata": {
    "id": "ULzA8xhwZI22"
   },
   "outputs": [
    {
     "name": "stdout",
     "output_type": "stream",
     "text": [
      "449\n",
      "120\n",
      "200\n",
      "120\n",
      "192\n",
      "120\n"
     ]
    }
   ],
   "source": [
    "tokenizer = Tokenizer(num_words=vocab_size, oov_token=oov_tok)  # Initialize the tokenizer with a vocabulary size limit and an OOV token.\n",
    "tokenizer.fit_on_texts(train_sentences)  # Fit the tokenizer on the training sentences to create the word index.\n",
    "\n",
    "word_index = tokenizer.word_index  # Get the word index dictionary that maps words to their index.\n",
    "\n",
    "# Convert the training sentences to sequences of integers.\n",
    "train_sequences = tokenizer.texts_to_sequences(train_sentences)\n",
    "# Pad the training sequences to ensure they all have the same length.\n",
    "train_padded = pad_sequences(train_sequences, padding=padding_type, maxlen=max_length)\n",
    "\n",
    "# Print the length of the first training sequence before and after padding.\n",
    "print(len(train_sequences[0]))  \n",
    "print(len(train_padded[0]))     \n",
    "\n",
    "# Print the length of the second training sequence before and after padding.\n",
    "print(len(train_sequences[1]))  \n",
    "print(len(train_padded[1]))     \n",
    "\n",
    "# Print the length of the eleventh training sequence before and after padding.\n",
    "print(len(train_sequences[10])) \n",
    "print(len(train_padded[10]))     "
   ]
  },
  {
   "cell_type": "code",
   "execution_count": 11,
   "metadata": {
    "id": "c8PeFWzPZLW_"
   },
   "outputs": [
    {
     "name": "stdout",
     "output_type": "stream",
     "text": [
      "445\n",
      "(445, 120)\n"
     ]
    }
   ],
   "source": [
    "# Convert the validation sentences to sequences of integers.\n",
    "validation_sequences = tokenizer.texts_to_sequences(validation_sentences)\n",
    "# Pad the validation sequences to ensure they all have the same length.\n",
    "validation_padded = pad_sequences(validation_sequences, padding=padding_type, maxlen=max_length)\n",
    "\n",
    "print(len(validation_sequences))\n",
    "print(validation_padded.shape)"
   ]
  },
  {
   "cell_type": "code",
   "execution_count": 12,
   "metadata": {
    "id": "XkWiQ_FKZNp2"
   },
   "outputs": [
    {
     "name": "stdout",
     "output_type": "stream",
     "text": [
      "[4]\n",
      "[2]\n",
      "[1]\n",
      "(1780, 1)\n",
      "[5]\n",
      "[4]\n",
      "[3]\n",
      "(445, 1)\n"
     ]
    }
   ],
   "source": [
    "label_tokenizer = Tokenizer()  # Initialize a tokenizer for the labels.\n",
    "label_tokenizer.fit_on_texts(labels)  # Fit the tokenizer on the labels to create the label index.\n",
    "\n",
    "# Convert the training labels to sequences of integers.\n",
    "training_label_seq = np.array(label_tokenizer.texts_to_sequences(train_labels))\n",
    "# Convert the validation labels to sequences of integers.\n",
    "validation_label_seq = np.array(label_tokenizer.texts_to_sequences(validation_labels))\n",
    "\n",
    "# Print the first three training label sequences and their shape.\n",
    "print(training_label_seq[0])\n",
    "print(training_label_seq[1])\n",
    "print(training_label_seq[2])\n",
    "print(training_label_seq.shape)\n",
    "# Print the first three validation label sequences and their shape.\n",
    "print(validation_label_seq[0])\n",
    "print(validation_label_seq[1])\n",
    "print(validation_label_seq[2])\n",
    "print(validation_label_seq.shape)"
   ]
  },
  {
   "cell_type": "code",
   "execution_count": 13,
   "metadata": {
    "id": "HZ5um4MWZP-W"
   },
   "outputs": [
    {
     "name": "stdout",
     "output_type": "stream",
     "text": [
      "Model: \"sequential\"\n",
      "_________________________________________________________________\n",
      " Layer (type)                Output Shape              Param #   \n",
      "=================================================================\n",
      " embedding (Embedding)       (None, 120, 16)           16000     \n",
      "                                                                 \n",
      " global_average_pooling1d (G  (None, 16)               0         \n",
      " lobalAveragePooling1D)                                          \n",
      "                                                                 \n",
      " dense (Dense)               (None, 24)                408       \n",
      "                                                                 \n",
      " dense_1 (Dense)             (None, 6)                 150       \n",
      "                                                                 \n",
      "=================================================================\n",
      "Total params: 16,558\n",
      "Trainable params: 16,558\n",
      "Non-trainable params: 0\n",
      "_________________________________________________________________\n"
     ]
    }
   ],
   "source": [
    "# Initialize a Sequential model.\n",
    "model = tf.keras.Sequential([\n",
    "    tf.keras.layers.Embedding(vocab_size, embedding_dim, input_length=max_length),\n",
    "    tf.keras.layers.GlobalAveragePooling1D(),\n",
    "    tf.keras.layers.Dense(24, activation='relu'),\n",
    "    tf.keras.layers.Dense(6, activation='softmax')\n",
    "])\n",
    "# Compile the model with sparse categorical crossentropy loss, the Adam optimizer, and accuracy as a metric.\n",
    "model.compile(loss='sparse_categorical_crossentropy',optimizer='adam',metrics=['accuracy'])\n",
    "model.summary()"
   ]
  },
  {
   "cell_type": "markdown",
   "metadata": {},
   "source": [
    "train the model"
   ]
  },
  {
   "cell_type": "code",
   "execution_count": 14,
   "metadata": {
    "id": "XsfdxySKZSXu"
   },
   "outputs": [
    {
     "name": "stdout",
     "output_type": "stream",
     "text": [
      "Epoch 1/30\n",
      "56/56 - 2s - loss: 1.7684 - accuracy: 0.2646 - val_loss: 1.7359 - val_accuracy: 0.3461 - 2s/epoch - 29ms/step\n",
      "Epoch 2/30\n",
      "56/56 - 0s - loss: 1.6956 - accuracy: 0.3157 - val_loss: 1.6437 - val_accuracy: 0.2607 - 322ms/epoch - 6ms/step\n",
      "Epoch 3/30\n",
      "56/56 - 0s - loss: 1.5852 - accuracy: 0.2826 - val_loss: 1.5239 - val_accuracy: 0.3933 - 319ms/epoch - 6ms/step\n",
      "Epoch 4/30\n",
      "56/56 - 0s - loss: 1.4398 - accuracy: 0.4427 - val_loss: 1.3742 - val_accuracy: 0.4697 - 314ms/epoch - 6ms/step\n",
      "Epoch 5/30\n",
      "56/56 - 0s - loss: 1.2642 - accuracy: 0.5736 - val_loss: 1.2023 - val_accuracy: 0.6292 - 311ms/epoch - 6ms/step\n",
      "Epoch 6/30\n",
      "56/56 - 0s - loss: 1.0818 - accuracy: 0.7213 - val_loss: 1.0354 - val_accuracy: 0.7640 - 320ms/epoch - 6ms/step\n",
      "Epoch 7/30\n",
      "56/56 - 0s - loss: 0.9049 - accuracy: 0.8191 - val_loss: 0.8765 - val_accuracy: 0.8382 - 327ms/epoch - 6ms/step\n",
      "Epoch 8/30\n",
      "56/56 - 0s - loss: 0.7457 - accuracy: 0.8837 - val_loss: 0.7422 - val_accuracy: 0.8652 - 319ms/epoch - 6ms/step\n",
      "Epoch 9/30\n",
      "56/56 - 0s - loss: 0.6159 - accuracy: 0.9006 - val_loss: 0.6311 - val_accuracy: 0.8742 - 323ms/epoch - 6ms/step\n",
      "Epoch 10/30\n",
      "56/56 - 0s - loss: 0.5128 - accuracy: 0.9163 - val_loss: 0.5463 - val_accuracy: 0.8787 - 312ms/epoch - 6ms/step\n",
      "Epoch 11/30\n",
      "56/56 - 0s - loss: 0.4301 - accuracy: 0.9287 - val_loss: 0.4763 - val_accuracy: 0.8876 - 345ms/epoch - 6ms/step\n",
      "Epoch 12/30\n",
      "56/56 - 0s - loss: 0.3641 - accuracy: 0.9354 - val_loss: 0.4234 - val_accuracy: 0.9056 - 322ms/epoch - 6ms/step\n",
      "Epoch 13/30\n",
      "56/56 - 0s - loss: 0.3129 - accuracy: 0.9472 - val_loss: 0.3799 - val_accuracy: 0.9124 - 324ms/epoch - 6ms/step\n",
      "Epoch 14/30\n",
      "56/56 - 0s - loss: 0.2716 - accuracy: 0.9556 - val_loss: 0.3555 - val_accuracy: 0.9101 - 327ms/epoch - 6ms/step\n",
      "Epoch 15/30\n",
      "56/56 - 0s - loss: 0.2388 - accuracy: 0.9596 - val_loss: 0.3227 - val_accuracy: 0.9169 - 321ms/epoch - 6ms/step\n",
      "Epoch 16/30\n",
      "56/56 - 0s - loss: 0.2095 - accuracy: 0.9629 - val_loss: 0.2994 - val_accuracy: 0.9191 - 313ms/epoch - 6ms/step\n",
      "Epoch 17/30\n",
      "56/56 - 0s - loss: 0.1863 - accuracy: 0.9680 - val_loss: 0.2783 - val_accuracy: 0.9169 - 314ms/epoch - 6ms/step\n",
      "Epoch 18/30\n",
      "56/56 - 0s - loss: 0.1668 - accuracy: 0.9736 - val_loss: 0.2630 - val_accuracy: 0.9191 - 320ms/epoch - 6ms/step\n",
      "Epoch 19/30\n",
      "56/56 - 0s - loss: 0.1480 - accuracy: 0.9758 - val_loss: 0.2571 - val_accuracy: 0.9191 - 320ms/epoch - 6ms/step\n",
      "Epoch 20/30\n",
      "56/56 - 0s - loss: 0.1341 - accuracy: 0.9770 - val_loss: 0.2438 - val_accuracy: 0.9213 - 325ms/epoch - 6ms/step\n",
      "Epoch 21/30\n",
      "56/56 - 0s - loss: 0.1221 - accuracy: 0.9787 - val_loss: 0.2365 - val_accuracy: 0.9191 - 330ms/epoch - 6ms/step\n",
      "Epoch 22/30\n",
      "56/56 - 0s - loss: 0.1108 - accuracy: 0.9798 - val_loss: 0.2258 - val_accuracy: 0.9236 - 315ms/epoch - 6ms/step\n",
      "Epoch 23/30\n",
      "56/56 - 0s - loss: 0.1004 - accuracy: 0.9843 - val_loss: 0.2218 - val_accuracy: 0.9236 - 328ms/epoch - 6ms/step\n",
      "Epoch 24/30\n",
      "56/56 - 0s - loss: 0.0915 - accuracy: 0.9854 - val_loss: 0.2164 - val_accuracy: 0.9236 - 335ms/epoch - 6ms/step\n",
      "Epoch 25/30\n",
      "56/56 - 0s - loss: 0.0836 - accuracy: 0.9882 - val_loss: 0.2093 - val_accuracy: 0.9236 - 336ms/epoch - 6ms/step\n",
      "Epoch 26/30\n",
      "56/56 - 0s - loss: 0.0770 - accuracy: 0.9876 - val_loss: 0.2057 - val_accuracy: 0.9236 - 334ms/epoch - 6ms/step\n",
      "Epoch 27/30\n",
      "56/56 - 0s - loss: 0.0702 - accuracy: 0.9910 - val_loss: 0.2041 - val_accuracy: 0.9258 - 329ms/epoch - 6ms/step\n",
      "Epoch 28/30\n",
      "56/56 - 0s - loss: 0.0645 - accuracy: 0.9933 - val_loss: 0.2013 - val_accuracy: 0.9258 - 324ms/epoch - 6ms/step\n",
      "Epoch 29/30\n",
      "56/56 - 0s - loss: 0.0596 - accuracy: 0.9938 - val_loss: 0.2026 - val_accuracy: 0.9236 - 325ms/epoch - 6ms/step\n",
      "Epoch 30/30\n",
      "56/56 - 0s - loss: 0.0548 - accuracy: 0.9955 - val_loss: 0.1981 - val_accuracy: 0.9236 - 320ms/epoch - 6ms/step\n"
     ]
    }
   ],
   "source": [
    "num_epochs = 30\n",
    "history = model.fit(train_padded, training_label_seq, epochs=num_epochs, validation_data=(validation_padded, validation_label_seq), verbose=2)"
   ]
  },
  {
   "cell_type": "markdown",
   "metadata": {},
   "source": [
    "plot accuracy and loss curve"
   ]
  },
  {
   "cell_type": "code",
   "execution_count": 16,
   "metadata": {
    "id": "dQ0BX2apXS9u"
   },
   "outputs": [
    {
     "data": {
      "image/png": "[encoded data removed]",
      "text/plain": [
       "<Figure size 432x288 with 1 Axes>"
      ]
     },
     "metadata": {
      "needs_background": "light"
     },
     "output_type": "display_data"
    },
    {
     "data": {
      "image/png": "[encoded data removed]",
      "text/plain": [
       "<Figure size 432x288 with 1 Axes>"
      ]
     },
     "metadata": {
      "needs_background": "light"
     },
     "output_type": "display_data"
    }
   ],
   "source": [
    "def plot_graphs(history, string):\n",
    "  plt.plot(history.history[string])\n",
    "  plt.plot(history.history['val_'+string])\n",
    "  plt.xlabel(\"Epochs\")\n",
    "  plt.ylabel(string)\n",
    "  plt.legend([string, 'val_'+string])\n",
    "  plt.show()\n",
    "  \n",
    "plot_graphs(history, \"accuracy\")\n",
    "plot_graphs(history, \"loss\")"
   ]
  },
  {
   "cell_type": "code",
   "execution_count": 17,
   "metadata": {
    "id": "w7Xc-uWxXhML"
   },
   "outputs": [],
   "source": [
    "# Create a dictionary that maps integer indices back to words.\n",
    "reverse_word_index = dict([(value, key) for (key, value) in word_index.items()])\n",
    "\n",
    "# Define a function to decode a sequence of integers back into a sentence.\n",
    "def decode_sentence(text):\n",
    "    # Join the words corresponding to the integer indices into a single string.\n",
    "    # If an index is not found in the reverse_word_index, replace it with '?'.\n",
    "    return ' '.join([reverse_word_index.get(i, '?') for i in text])"
   ]
  },
  {
   "cell_type": "code",
   "execution_count": 18,
   "metadata": {
    "id": "OhnFA_TDXrih"
   },
   "outputs": [
    {
     "name": "stdout",
     "output_type": "stream",
     "text": [
      "(1000, 16)\n"
     ]
    }
   ],
   "source": [
    "# Get the first layer of the model, which is the Embedding layer.\n",
    "e = model.layers[0]\n",
    "# Extract the weights (embedding matrix) from the Embedding layer.\n",
    "weights = e.get_weights()[0]\n",
    "# Print the shape of the embedding matrix.\n",
    "print(weights.shape)  # (vocab_size, embedding_dim)"
   ]
  },
  {
   "cell_type": "code",
   "execution_count": 20,
   "metadata": {},
   "outputs": [],
   "source": [
    "# Open 'vecs.tsv' file for writing the word vectors, with UTF-8 encoding.\n",
    "out_v = io.open('vecs.tsv', 'w', encoding='utf-8')\n",
    "# Open 'meta.tsv' file for writing the metadata (words), with UTF-8 encoding.\n",
    "out_m = io.open('meta.tsv', 'w', encoding='utf-8')\n",
    "\n",
    "# Iterate over the range from 1 to vocab_size (excluding 0 as it is typically reserved for padding).\n",
    "for word_num in range(1, vocab_size):\n",
    "    word = reverse_word_index[word_num]  # Get the word corresponding to the current index.\n",
    "    embeddings = weights[word_num]       # Get the embedding vector for the current word.\n",
    "    \n",
    "    out_m.write(word + \"\\n\")  # Write the word to the metadata file followed by a newline.\n",
    "    \n",
    "    # Write the embedding vector to the vectors file, with values separated by tabs.\n",
    "    out_v.write('\\t'.join([str(x) for x in embeddings]) + \"\\n\")\n",
    "\n",
    "out_v.close()\n",
    "out_m.close() "
   ]
  }
 ],
 "metadata": {
  "accelerator": "GPU",
  "colab": {
   "collapsed_sections": [],
   "name": "Course 3 - Week 2 - Exercise - Answer.ipynb",
   "provenance": [],
   "toc_visible": true
  },
  "kernelspec": {
   "display_name": "netvlad",
   "language": "python",
   "name": "netvlad"
  },
  "language_info": {
   "codemirror_mode": {
    "name": "ipython",
    "version": 3
   },
   "file_extension": ".py",
   "mimetype": "text/x-python",
   "name": "python",
   "nbconvert_exporter": "python",
   "pygments_lexer": "ipython3",
   "version": "3.9.12"
  }
 },
 "nbformat": 4,
 "nbformat_minor": 1
}
