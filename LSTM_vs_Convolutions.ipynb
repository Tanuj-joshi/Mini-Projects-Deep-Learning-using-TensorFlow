{
 "cells": [
  {
   "cell_type": "markdown",
   "metadata": {
    "id": "zX4Kg8DUTKWO"
   },
   "source": [
    "### In this notebook we will run 2 Models using a sarcasm dataset: \n",
    "### 1 with a Bidirectional LSTM as its layer and another with 1D Convolutional layer. \n",
    "### We will then plot the accuracy and loss of the two models and compare it"
   ]
  },
  {
   "cell_type": "code",
   "execution_count": 3,
   "metadata": {
    "id": "jGwXGIXvFhXW"
   },
   "outputs": [],
   "source": [
    "# Import required libraries\n",
    "import numpy as np\n",
    "import json\n",
    "import tensorflow as tf\n",
    "import matplotlib.pyplot as plt\n",
    "from tensorflow.keras.preprocessing.text import Tokenizer\n",
    "from tensorflow.keras.preprocessing.sequence import pad_sequences"
   ]
  },
  {
   "cell_type": "markdown",
   "metadata": {},
   "source": [
    "Import dataset"
   ]
  },
  {
   "cell_type": "code",
   "execution_count": null,
   "metadata": {},
   "outputs": [],
   "source": [
    "# !wget --no-check-certificate \\\n",
    "#     https://storage.googleapis.com/laurencemoroney-blog.appspot.com/sarcasm.json \\\n",
    "#     -O D:/Tanuj/Projects/Deep_Learning_TensorFlow/Natural-Language-Processing-in-TensorFlow/Conv_vs_GRU_dataset/sarcasm.json"
   ]
  },
  {
   "cell_type": "code",
   "execution_count": 4,
   "metadata": {},
   "outputs": [],
   "source": [
    "vocab_size = 1000          # Define the vocabulary size to be used by the tokenizer.\n",
    "embedding_dim = 16         # Dimension of the dense embedding. Each word will be represented as a 16-dimensional vector.\n",
    "max_length = 120           # Maximum length of all sequences. Sequences longer than this will be truncated, and shorter ones will be padded.\n",
    "trunc_type = 'post'        # Truncate sequences from the end (post) if they exceed the maximum length.\n",
    "padding_type = 'post'      # Pad sequences at the end (post) to ensure all sequences are of the same length.\n",
    "oov_tok = \"<OOV>\"          # Token used to represent words that are out-of-vocabulary (i.e., not present in the training set).\n",
    "training_size = 20000      # Number of samples to be used for training.\n",
    "\n",
    "# Open the JSON file containing the dataset.\n",
    "with open(\"Conv_vs_GRU_dataset/sarcasm.json\", 'r') as f:\n",
    "    datastore = json.load(f)  # Load the data from the JSON file into the datastore variable.\n",
    "\n",
    "sentences = []  # Initialize an empty list to store the sentences.\n",
    "labels = []     # Initialize an empty list to store the labels.\n",
    "urls = []       # Initialize an empty list to store the URLs (not used further in the code).\n",
    "\n",
    "# Loop through each item in the datastore.\n",
    "for item in datastore:\n",
    "    sentences.append(item['headline'])   # Append the headline to the sentences list.\n",
    "    labels.append(item['is_sarcastic'])  # Append the label (0 or 1) to the labels list.\n",
    "\n",
    "# Split the data into training and testing sets.\n",
    "training_sentences = sentences[0:training_size]  # Get the first `training_size` sentences for training.\n",
    "testing_sentences = sentences[training_size:]    # Get the remaining sentences for testing.\n",
    "training_labels = labels[0:training_size]        # Get the first `training_size` labels for training.\n",
    "testing_labels = labels[training_size:]          # Get the remaining labels for testing.\n",
    "\n",
    "# Initialize the tokenizer with a vocabulary size limit and an OOV token.\n",
    "tokenizer = Tokenizer(num_words=vocab_size, oov_token=oov_tok)\n",
    "tokenizer.fit_on_texts(training_sentences)  # Fit the tokenizer on the training sentences.\n",
    "\n",
    "word_index = tokenizer.word_index  # Get the word index dictionary that maps words to their index.\n",
    "\n",
    "# Convert the training sentences to sequences of integers.\n",
    "training_sequences = tokenizer.texts_to_sequences(training_sentences)\n",
    "# Pad the training sequences to ensure they all have the same length.\n",
    "training_padded = pad_sequences(training_sequences, maxlen=max_length, padding=padding_type, truncating=trunc_type)\n",
    "\n",
    "# Convert the testing sentences to sequences of integers.\n",
    "testing_sequences = tokenizer.texts_to_sequences(testing_sentences)\n",
    "# Pad the testing sequences to ensure they all have the same length.\n",
    "testing_padded = pad_sequences(testing_sequences, maxlen=max_length, padding=padding_type, truncating=trunc_type)"
   ]
  },
  {
   "cell_type": "markdown",
   "metadata": {},
   "source": [
    "Model with Bidirectional LSTM as a Layer"
   ]
  },
  {
   "cell_type": "code",
   "execution_count": 5,
   "metadata": {},
   "outputs": [
    {
     "name": "stdout",
     "output_type": "stream",
     "text": [
      "Model: \"sequential\"\n",
      "_________________________________________________________________\n",
      " Layer (type)                Output Shape              Param #   \n",
      "=================================================================\n",
      " embedding (Embedding)       (None, 120, 16)           16000     \n",
      "                                                                 \n",
      " bidirectional (Bidirectiona  (None, 64)               12544     \n",
      " l)                                                              \n",
      "                                                                 \n",
      " dense (Dense)               (None, 24)                1560      \n",
      "                                                                 \n",
      " dense_1 (Dense)             (None, 1)                 25        \n",
      "                                                                 \n",
      "=================================================================\n",
      "Total params: 30,129\n",
      "Trainable params: 30,129\n",
      "Non-trainable params: 0\n",
      "_________________________________________________________________\n",
      "Epoch 1/50\n",
      "625/625 [==============================] - 42s 40ms/step - loss: 0.4909 - accuracy: 0.7640 - val_loss: 0.3915 - val_accuracy: 0.8229\n",
      "Epoch 2/50\n",
      "625/625 [==============================] - 23s 37ms/step - loss: 0.3594 - accuracy: 0.8351 - val_loss: 0.3783 - val_accuracy: 0.8261\n",
      "Epoch 3/50\n",
      "625/625 [==============================] - 23s 37ms/step - loss: 0.3391 - accuracy: 0.8476 - val_loss: 0.3741 - val_accuracy: 0.8344\n",
      "Epoch 4/50\n",
      "625/625 [==============================] - 22s 36ms/step - loss: 0.3228 - accuracy: 0.8552 - val_loss: 0.3992 - val_accuracy: 0.8189\n",
      "Epoch 5/50\n",
      "625/625 [==============================] - 22s 35ms/step - loss: 0.3135 - accuracy: 0.8604 - val_loss: 0.3730 - val_accuracy: 0.8320\n",
      "Epoch 6/50\n",
      "625/625 [==============================] - 22s 36ms/step - loss: 0.3058 - accuracy: 0.8628 - val_loss: 0.3747 - val_accuracy: 0.8286\n",
      "Epoch 7/50\n",
      "625/625 [==============================] - 22s 36ms/step - loss: 0.3014 - accuracy: 0.8661 - val_loss: 0.3775 - val_accuracy: 0.8289\n",
      "Epoch 8/50\n",
      "625/625 [==============================] - 22s 36ms/step - loss: 0.2953 - accuracy: 0.8694 - val_loss: 0.3882 - val_accuracy: 0.8232\n",
      "Epoch 9/50\n",
      "625/625 [==============================] - 23s 36ms/step - loss: 0.2932 - accuracy: 0.8692 - val_loss: 0.3837 - val_accuracy: 0.8317\n",
      "Epoch 10/50\n",
      "625/625 [==============================] - 22s 35ms/step - loss: 0.2852 - accuracy: 0.8758 - val_loss: 0.3873 - val_accuracy: 0.8322\n",
      "Epoch 11/50\n",
      "625/625 [==============================] - 22s 36ms/step - loss: 0.2782 - accuracy: 0.8796 - val_loss: 0.3870 - val_accuracy: 0.8298\n",
      "Epoch 12/50\n",
      "625/625 [==============================] - 22s 36ms/step - loss: 0.2707 - accuracy: 0.8828 - val_loss: 0.3952 - val_accuracy: 0.8278\n",
      "Epoch 13/50\n",
      "625/625 [==============================] - 22s 35ms/step - loss: 0.2626 - accuracy: 0.8867 - val_loss: 0.4058 - val_accuracy: 0.8222\n",
      "Epoch 14/50\n",
      "625/625 [==============================] - 22s 35ms/step - loss: 0.2548 - accuracy: 0.8902 - val_loss: 0.4051 - val_accuracy: 0.8310\n",
      "Epoch 15/50\n",
      "625/625 [==============================] - 22s 35ms/step - loss: 0.2465 - accuracy: 0.8924 - val_loss: 0.4243 - val_accuracy: 0.8231\n",
      "Epoch 16/50\n",
      "625/625 [==============================] - 22s 35ms/step - loss: 0.2383 - accuracy: 0.8975 - val_loss: 0.4203 - val_accuracy: 0.8250\n",
      "Epoch 17/50\n",
      "625/625 [==============================] - 23s 36ms/step - loss: 0.2295 - accuracy: 0.9028 - val_loss: 0.4457 - val_accuracy: 0.8244\n",
      "Epoch 18/50\n",
      "625/625 [==============================] - 22s 35ms/step - loss: 0.2243 - accuracy: 0.9050 - val_loss: 0.4614 - val_accuracy: 0.8229\n",
      "Epoch 19/50\n",
      "625/625 [==============================] - 22s 35ms/step - loss: 0.2162 - accuracy: 0.9085 - val_loss: 0.4601 - val_accuracy: 0.8226\n",
      "Epoch 20/50\n",
      "625/625 [==============================] - 31s 50ms/step - loss: 0.2066 - accuracy: 0.9128 - val_loss: 0.4846 - val_accuracy: 0.8235\n",
      "Epoch 21/50\n",
      "625/625 [==============================] - 40s 63ms/step - loss: 0.2000 - accuracy: 0.9165 - val_loss: 0.4771 - val_accuracy: 0.8174\n",
      "Epoch 22/50\n",
      "625/625 [==============================] - 40s 64ms/step - loss: 0.1948 - accuracy: 0.9166 - val_loss: 0.5351 - val_accuracy: 0.8185\n",
      "Epoch 23/50\n",
      "625/625 [==============================] - 40s 63ms/step - loss: 0.1888 - accuracy: 0.9204 - val_loss: 0.5429 - val_accuracy: 0.8150\n",
      "Epoch 24/50\n",
      "625/625 [==============================] - 38s 61ms/step - loss: 0.1825 - accuracy: 0.9237 - val_loss: 0.6080 - val_accuracy: 0.8132\n",
      "Epoch 25/50\n",
      "625/625 [==============================] - 41s 65ms/step - loss: 0.1724 - accuracy: 0.9283 - val_loss: 0.5790 - val_accuracy: 0.8120\n",
      "Epoch 26/50\n",
      "625/625 [==============================] - 38s 61ms/step - loss: 0.1673 - accuracy: 0.9291 - val_loss: 0.6828 - val_accuracy: 0.8126\n",
      "Epoch 27/50\n",
      "625/625 [==============================] - 18s 28ms/step - loss: 0.1626 - accuracy: 0.9332 - val_loss: 0.6617 - val_accuracy: 0.8149\n",
      "Epoch 28/50\n",
      "625/625 [==============================] - 18s 28ms/step - loss: 0.1548 - accuracy: 0.9368 - val_loss: 0.6985 - val_accuracy: 0.8095\n",
      "Epoch 29/50\n",
      "625/625 [==============================] - 18s 29ms/step - loss: 0.1463 - accuracy: 0.9410 - val_loss: 0.7417 - val_accuracy: 0.8082\n",
      "Epoch 30/50\n",
      "625/625 [==============================] - 17s 26ms/step - loss: 0.1438 - accuracy: 0.9406 - val_loss: 0.7324 - val_accuracy: 0.8116\n",
      "Epoch 31/50\n",
      "625/625 [==============================] - 17s 27ms/step - loss: 0.1371 - accuracy: 0.9452 - val_loss: 0.7468 - val_accuracy: 0.8085\n",
      "Epoch 32/50\n",
      "625/625 [==============================] - 17s 27ms/step - loss: 0.1330 - accuracy: 0.9459 - val_loss: 0.8205 - val_accuracy: 0.8040\n",
      "Epoch 33/50\n",
      "625/625 [==============================] - 17s 27ms/step - loss: 0.1245 - accuracy: 0.9493 - val_loss: 0.8908 - val_accuracy: 0.8097\n",
      "Epoch 34/50\n",
      "625/625 [==============================] - 17s 27ms/step - loss: 0.1221 - accuracy: 0.9503 - val_loss: 0.8894 - val_accuracy: 0.8071\n",
      "Epoch 35/50\n",
      "625/625 [==============================] - 17s 27ms/step - loss: 0.1160 - accuracy: 0.9528 - val_loss: 0.9767 - val_accuracy: 0.8043\n",
      "Epoch 36/50\n",
      "625/625 [==============================] - 17s 27ms/step - loss: 0.1134 - accuracy: 0.9536 - val_loss: 0.9528 - val_accuracy: 0.8083\n",
      "Epoch 37/50\n",
      "625/625 [==============================] - 17s 27ms/step - loss: 0.1121 - accuracy: 0.9546 - val_loss: 0.9418 - val_accuracy: 0.8009\n",
      "Epoch 38/50\n",
      "625/625 [==============================] - 17s 27ms/step - loss: 0.1022 - accuracy: 0.9598 - val_loss: 0.9926 - val_accuracy: 0.8065\n",
      "Epoch 39/50\n",
      "625/625 [==============================] - 17s 27ms/step - loss: 0.0955 - accuracy: 0.9617 - val_loss: 1.0832 - val_accuracy: 0.8053\n",
      "Epoch 40/50\n",
      "625/625 [==============================] - 17s 27ms/step - loss: 0.0954 - accuracy: 0.9613 - val_loss: 1.0780 - val_accuracy: 0.7991\n",
      "Epoch 41/50\n",
      "625/625 [==============================] - 17s 27ms/step - loss: 0.0923 - accuracy: 0.9617 - val_loss: 1.1490 - val_accuracy: 0.8001\n",
      "Epoch 42/50\n",
      "625/625 [==============================] - 17s 27ms/step - loss: 0.0893 - accuracy: 0.9639 - val_loss: 1.1160 - val_accuracy: 0.7985\n",
      "Epoch 43/50\n",
      "625/625 [==============================] - 17s 27ms/step - loss: 0.0875 - accuracy: 0.9646 - val_loss: 1.1491 - val_accuracy: 0.8006\n",
      "Epoch 44/50\n",
      "625/625 [==============================] - 17s 27ms/step - loss: 0.0817 - accuracy: 0.9665 - val_loss: 1.2552 - val_accuracy: 0.7979\n",
      "Epoch 45/50\n",
      "625/625 [==============================] - 18s 29ms/step - loss: 0.0803 - accuracy: 0.9681 - val_loss: 1.3214 - val_accuracy: 0.7982\n",
      "Epoch 46/50\n",
      "625/625 [==============================] - 18s 29ms/step - loss: 0.0793 - accuracy: 0.9668 - val_loss: 1.2597 - val_accuracy: 0.7985\n",
      "Epoch 47/50\n",
      "625/625 [==============================] - 18s 28ms/step - loss: 0.0774 - accuracy: 0.9682 - val_loss: 1.2946 - val_accuracy: 0.8009\n",
      "Epoch 48/50\n",
      "625/625 [==============================] - 17s 28ms/step - loss: 0.0672 - accuracy: 0.9719 - val_loss: 1.4471 - val_accuracy: 0.7995\n",
      "Epoch 49/50\n",
      "625/625 [==============================] - 18s 29ms/step - loss: 0.0704 - accuracy: 0.9711 - val_loss: 1.3644 - val_accuracy: 0.7997\n",
      "Epoch 50/50\n",
      "625/625 [==============================] - 18s 29ms/step - loss: 0.0660 - accuracy: 0.9729 - val_loss: 1.5576 - val_accuracy: 0.7912\n"
     ]
    }
   ],
   "source": [
    "# Initialize a Sequential model.\n",
    "model = tf.keras.Sequential([\n",
    "    tf.keras.layers.Embedding(vocab_size, embedding_dim, input_length=max_length),\n",
    "    tf.keras.layers.Bidirectional(tf.keras.layers.LSTM(32)),\n",
    "    tf.keras.layers.Dense(24, activation='relu'),\n",
    "    tf.keras.layers.Dense(1, activation='sigmoid')\n",
    "])\n",
    "# Compile the model with binary crossentropy loss, the Adam optimizer, and accuracy as a metric.\n",
    "model.compile(loss='binary_crossentropy', optimizer='adam', metrics=['accuracy'])\n",
    "model.summary()\n",
    "\n",
    "num_epochs = 50 \n",
    "\n",
    "# Convert the padded sequences and labels to numpy arrays.\n",
    "training_padded = np.array(training_padded)\n",
    "training_labels = np.array(training_labels)\n",
    "testing_padded = np.array(testing_padded)\n",
    "testing_labels = np.array(testing_labels)\n",
    "\n",
    "# Train the model using the training data and validate using the testing data.\n",
    "history_LSTM = model.fit(training_padded, training_labels, epochs=num_epochs, \n",
    "                         validation_data=(testing_padded, testing_labels), verbose=1)"
   ]
  },
  {
   "cell_type": "code",
   "execution_count": 7,
   "metadata": {},
   "outputs": [
    {
     "data": {
      "image/png": "[encoded data removed]",
      "text/plain": [
       "<Figure size 432x288 with 1 Axes>"
      ]
     },
     "metadata": {
      "needs_background": "light"
     },
     "output_type": "display_data"
    },
    {
     "data": {
      "image/png": "[encoded data removed]",
      "text/plain": [
       "<Figure size 432x288 with 1 Axes>"
      ]
     },
     "metadata": {
      "needs_background": "light"
     },
     "output_type": "display_data"
    }
   ],
   "source": [
    "# Plot accuracy and loss for training and validation\n",
    "def plot_graphs(history_LSTM, string):\n",
    "  plt.plot(history_LSTM.history[string])\n",
    "  plt.plot(history_LSTM.history['val_'+string])\n",
    "  plt.xlabel(\"Epochs\")\n",
    "  plt.ylabel(string)\n",
    "  plt.legend([string, 'val_'+string])\n",
    "  plt.show()\n",
    "\n",
    "plot_graphs(history_LSTM, 'accuracy')\n",
    "plot_graphs(history_LSTM, 'loss')"
   ]
  },
  {
   "cell_type": "markdown",
   "metadata": {},
   "source": [
    "Model with 1D Convolutional as a Layer"
   ]
  },
  {
   "cell_type": "code",
   "execution_count": 8,
   "metadata": {},
   "outputs": [
    {
     "name": "stdout",
     "output_type": "stream",
     "text": [
      "Model: \"sequential_1\"\n",
      "_________________________________________________________________\n",
      " Layer (type)                Output Shape              Param #   \n",
      "=================================================================\n",
      " embedding_1 (Embedding)     (None, 120, 16)           16000     \n",
      "                                                                 \n",
      " conv1d (Conv1D)             (None, 116, 128)          10368     \n",
      "                                                                 \n",
      " global_max_pooling1d (Globa  (None, 128)              0         \n",
      " lMaxPooling1D)                                                  \n",
      "                                                                 \n",
      " dense_2 (Dense)             (None, 24)                3096      \n",
      "                                                                 \n",
      " dense_3 (Dense)             (None, 1)                 25        \n",
      "                                                                 \n",
      "=================================================================\n",
      "Total params: 29,489\n",
      "Trainable params: 29,489\n",
      "Non-trainable params: 0\n",
      "_________________________________________________________________\n",
      "Epoch 1/50\n",
      "625/625 [==============================] - 10s 7ms/step - loss: 0.4721 - accuracy: 0.7602 - val_loss: 0.4089 - val_accuracy: 0.8137\n",
      "Epoch 2/50\n",
      "625/625 [==============================] - 4s 7ms/step - loss: 0.3543 - accuracy: 0.8409 - val_loss: 0.3875 - val_accuracy: 0.8225\n",
      "Epoch 3/50\n",
      "625/625 [==============================] - 4s 6ms/step - loss: 0.3158 - accuracy: 0.8630 - val_loss: 0.3951 - val_accuracy: 0.8208\n",
      "Epoch 4/50\n",
      "625/625 [==============================] - 4s 7ms/step - loss: 0.2830 - accuracy: 0.8797 - val_loss: 0.4059 - val_accuracy: 0.8211\n",
      "Epoch 5/50\n",
      "625/625 [==============================] - 4s 6ms/step - loss: 0.2523 - accuracy: 0.8923 - val_loss: 0.4239 - val_accuracy: 0.8156\n",
      "Epoch 6/50\n",
      "625/625 [==============================] - 4s 6ms/step - loss: 0.2201 - accuracy: 0.9111 - val_loss: 0.4580 - val_accuracy: 0.8114\n",
      "Epoch 7/50\n",
      "625/625 [==============================] - 4s 7ms/step - loss: 0.1857 - accuracy: 0.9248 - val_loss: 0.4944 - val_accuracy: 0.8092\n",
      "Epoch 8/50\n",
      "625/625 [==============================] - 4s 7ms/step - loss: 0.1563 - accuracy: 0.9385 - val_loss: 0.5567 - val_accuracy: 0.8058\n",
      "Epoch 9/50\n",
      "625/625 [==============================] - 4s 6ms/step - loss: 0.1286 - accuracy: 0.9526 - val_loss: 0.6294 - val_accuracy: 0.8044\n",
      "Epoch 10/50\n",
      "625/625 [==============================] - 4s 6ms/step - loss: 0.1061 - accuracy: 0.9627 - val_loss: 0.6921 - val_accuracy: 0.8000\n",
      "Epoch 11/50\n",
      "625/625 [==============================] - 4s 6ms/step - loss: 0.0884 - accuracy: 0.9694 - val_loss: 0.7607 - val_accuracy: 0.7970\n",
      "Epoch 12/50\n",
      "625/625 [==============================] - 4s 6ms/step - loss: 0.0733 - accuracy: 0.9746 - val_loss: 0.8506 - val_accuracy: 0.7995\n",
      "Epoch 13/50\n",
      "625/625 [==============================] - 4s 6ms/step - loss: 0.0660 - accuracy: 0.9768 - val_loss: 0.9209 - val_accuracy: 0.8006\n",
      "Epoch 14/50\n",
      "625/625 [==============================] - 4s 7ms/step - loss: 0.0558 - accuracy: 0.9805 - val_loss: 0.9885 - val_accuracy: 0.7964\n",
      "Epoch 15/50\n",
      "625/625 [==============================] - 4s 6ms/step - loss: 0.0520 - accuracy: 0.9813 - val_loss: 1.1099 - val_accuracy: 0.7909\n",
      "Epoch 16/50\n",
      "625/625 [==============================] - 4s 6ms/step - loss: 0.0468 - accuracy: 0.9832 - val_loss: 1.1820 - val_accuracy: 0.7977\n",
      "Epoch 17/50\n",
      "625/625 [==============================] - 4s 7ms/step - loss: 0.0396 - accuracy: 0.9858 - val_loss: 1.2126 - val_accuracy: 0.7898\n",
      "Epoch 18/50\n",
      "625/625 [==============================] - 4s 6ms/step - loss: 0.0381 - accuracy: 0.9855 - val_loss: 1.2885 - val_accuracy: 0.7891\n",
      "Epoch 19/50\n",
      "625/625 [==============================] - 4s 6ms/step - loss: 0.0389 - accuracy: 0.9844 - val_loss: 1.3586 - val_accuracy: 0.7872\n",
      "Epoch 20/50\n",
      "625/625 [==============================] - 4s 6ms/step - loss: 0.0369 - accuracy: 0.9855 - val_loss: 1.4449 - val_accuracy: 0.7854\n",
      "Epoch 21/50\n",
      "625/625 [==============================] - 4s 6ms/step - loss: 0.0325 - accuracy: 0.9871 - val_loss: 1.5263 - val_accuracy: 0.7889\n",
      "Epoch 22/50\n",
      "625/625 [==============================] - 4s 6ms/step - loss: 0.0288 - accuracy: 0.9891 - val_loss: 1.5694 - val_accuracy: 0.7857\n",
      "Epoch 23/50\n",
      "625/625 [==============================] - 4s 6ms/step - loss: 0.0328 - accuracy: 0.9869 - val_loss: 1.6123 - val_accuracy: 0.7810\n",
      "Epoch 24/50\n",
      "625/625 [==============================] - 4s 6ms/step - loss: 0.0318 - accuracy: 0.9878 - val_loss: 1.5976 - val_accuracy: 0.7864\n",
      "Epoch 25/50\n",
      "625/625 [==============================] - 4s 6ms/step - loss: 0.0288 - accuracy: 0.9876 - val_loss: 1.6533 - val_accuracy: 0.7883\n",
      "Epoch 26/50\n",
      "625/625 [==============================] - 4s 6ms/step - loss: 0.0281 - accuracy: 0.9886 - val_loss: 1.7522 - val_accuracy: 0.7855\n",
      "Epoch 27/50\n",
      "625/625 [==============================] - 4s 6ms/step - loss: 0.0261 - accuracy: 0.9898 - val_loss: 1.8620 - val_accuracy: 0.7837\n",
      "Epoch 28/50\n",
      "625/625 [==============================] - 4s 7ms/step - loss: 0.0289 - accuracy: 0.9880 - val_loss: 1.8384 - val_accuracy: 0.7861\n",
      "Epoch 29/50\n",
      "625/625 [==============================] - 4s 6ms/step - loss: 0.0273 - accuracy: 0.9890 - val_loss: 1.9122 - val_accuracy: 0.7879\n",
      "Epoch 30/50\n",
      "625/625 [==============================] - 4s 6ms/step - loss: 0.0246 - accuracy: 0.9898 - val_loss: 1.9419 - val_accuracy: 0.7870\n",
      "Epoch 31/50\n",
      "625/625 [==============================] - 4s 6ms/step - loss: 0.0253 - accuracy: 0.9895 - val_loss: 1.9181 - val_accuracy: 0.7863\n",
      "Epoch 32/50\n",
      "625/625 [==============================] - 4s 6ms/step - loss: 0.0211 - accuracy: 0.9912 - val_loss: 2.0074 - val_accuracy: 0.7869\n",
      "Epoch 33/50\n",
      "625/625 [==============================] - 4s 7ms/step - loss: 0.0222 - accuracy: 0.9908 - val_loss: 2.1283 - val_accuracy: 0.7892\n",
      "Epoch 34/50\n",
      "625/625 [==============================] - 4s 7ms/step - loss: 0.0271 - accuracy: 0.9891 - val_loss: 2.1159 - val_accuracy: 0.7822\n",
      "Epoch 35/50\n",
      "625/625 [==============================] - 4s 6ms/step - loss: 0.0234 - accuracy: 0.9904 - val_loss: 2.1733 - val_accuracy: 0.7885\n",
      "Epoch 36/50\n",
      "625/625 [==============================] - 4s 6ms/step - loss: 0.0205 - accuracy: 0.9912 - val_loss: 2.1663 - val_accuracy: 0.7845\n",
      "Epoch 37/50\n",
      "625/625 [==============================] - 4s 6ms/step - loss: 0.0202 - accuracy: 0.9912 - val_loss: 2.2828 - val_accuracy: 0.7852\n",
      "Epoch 38/50\n",
      "625/625 [==============================] - 4s 6ms/step - loss: 0.0214 - accuracy: 0.9908 - val_loss: 2.3430 - val_accuracy: 0.7773\n",
      "Epoch 39/50\n",
      "625/625 [==============================] - 4s 6ms/step - loss: 0.0203 - accuracy: 0.9913 - val_loss: 2.3616 - val_accuracy: 0.7809\n",
      "Epoch 40/50\n",
      "625/625 [==============================] - 4s 6ms/step - loss: 0.0254 - accuracy: 0.9895 - val_loss: 2.2470 - val_accuracy: 0.7824\n",
      "Epoch 41/50\n",
      "625/625 [==============================] - 4s 6ms/step - loss: 0.0245 - accuracy: 0.9898 - val_loss: 2.2097 - val_accuracy: 0.7834\n",
      "Epoch 42/50\n",
      "625/625 [==============================] - 4s 6ms/step - loss: 0.0197 - accuracy: 0.9911 - val_loss: 2.2582 - val_accuracy: 0.7842\n",
      "Epoch 43/50\n",
      "625/625 [==============================] - 4s 6ms/step - loss: 0.0184 - accuracy: 0.9917 - val_loss: 2.3418 - val_accuracy: 0.7851\n",
      "Epoch 44/50\n",
      "625/625 [==============================] - 4s 6ms/step - loss: 0.0219 - accuracy: 0.9902 - val_loss: 2.4482 - val_accuracy: 0.7900\n",
      "Epoch 45/50\n",
      "625/625 [==============================] - 4s 6ms/step - loss: 0.0236 - accuracy: 0.9902 - val_loss: 2.5616 - val_accuracy: 0.7842\n",
      "Epoch 46/50\n",
      "625/625 [==============================] - 4s 6ms/step - loss: 0.0209 - accuracy: 0.9911 - val_loss: 2.4974 - val_accuracy: 0.7916\n",
      "Epoch 47/50\n",
      "625/625 [==============================] - 4s 6ms/step - loss: 0.0184 - accuracy: 0.9918 - val_loss: 2.5776 - val_accuracy: 0.7788\n",
      "Epoch 48/50\n",
      "625/625 [==============================] - 4s 6ms/step - loss: 0.0180 - accuracy: 0.9920 - val_loss: 2.5294 - val_accuracy: 0.7863\n",
      "Epoch 49/50\n",
      "625/625 [==============================] - 4s 6ms/step - loss: 0.0185 - accuracy: 0.9918 - val_loss: 2.5642 - val_accuracy: 0.7849\n",
      "Epoch 50/50\n",
      "625/625 [==============================] - 4s 6ms/step - loss: 0.0221 - accuracy: 0.9908 - val_loss: 2.5282 - val_accuracy: 0.7800\n"
     ]
    }
   ],
   "source": [
    "# Initialize a Sequential model.\n",
    "model = tf.keras.Sequential([\n",
    "    tf.keras.layers.Embedding(vocab_size, embedding_dim, input_length=max_length),\n",
    "    tf.keras.layers.Conv1D(128, 5, activation='relu'),\n",
    "    tf.keras.layers.GlobalMaxPooling1D(),\n",
    "    tf.keras.layers.Dense(24, activation='relu'),\n",
    "    tf.keras.layers.Dense(1, activation='sigmoid')\n",
    "])\n",
    "# Compile the model with binary crossentropy loss, the Adam optimizer, and accuracy as a metric.\n",
    "model.compile(loss='binary_crossentropy',optimizer='adam',metrics=['accuracy'])\n",
    "model.summary()\n",
    "\n",
    "num_epochs = 50\n",
    "\n",
    "# Convert the padded sequences and labels to numpy arrays.\n",
    "training_padded = np.array(training_padded)\n",
    "training_labels = np.array(training_labels)\n",
    "testing_padded = np.array(testing_padded)\n",
    "testing_labels = np.array(testing_labels)\n",
    "\n",
    "# Train the model using the training data and validate using the testing data.\n",
    "history_conv = model.fit(training_padded, training_labels, epochs=num_epochs, \n",
    "                    validation_data=(testing_padded, testing_labels), verbose=1)"
   ]
  },
  {
   "cell_type": "code",
   "execution_count": 9,
   "metadata": {},
   "outputs": [
    {
     "data": {
      "image/png": "[encoded data removed]",
      "text/plain": [
       "<Figure size 432x288 with 1 Axes>"
      ]
     },
     "metadata": {
      "needs_background": "light"
     },
     "output_type": "display_data"
    },
    {
     "data": {
      "image/png": "[encoded data removed]",
      "text/plain": [
       "<Figure size 432x288 with 1 Axes>"
      ]
     },
     "metadata": {
      "needs_background": "light"
     },
     "output_type": "display_data"
    }
   ],
   "source": [
    "# Plot accuracy and loss for training and validation\n",
    "def plot_graphs(history_conv, string):\n",
    "  plt.plot(history_conv.history[string])\n",
    "  plt.plot(history_conv.history['val_'+string])\n",
    "  plt.xlabel(\"Epochs\")\n",
    "  plt.ylabel(string)\n",
    "  plt.legend([string, 'val_'+string])\n",
    "  plt.show()\n",
    "\n",
    "plot_graphs(history_conv, 'accuracy')\n",
    "plot_graphs(history_conv, 'loss')"
   ]
  }
 ],
 "metadata": {
  "accelerator": "GPU",
  "colab": {
   "collapsed_sections": [],
   "name": "Course 3 - Week 3 - Lesson 2.ipynb",
   "provenance": [],
   "toc_visible": true
  },
  "kernelspec": {
   "display_name": "netvlad",
   "language": "python",
   "name": "netvlad"
  },
  "language_info": {
   "codemirror_mode": {
    "name": "ipython",
    "version": 3
   },
   "file_extension": ".py",
   "mimetype": "text/x-python",
   "name": "python",
   "nbconvert_exporter": "python",
   "pygments_lexer": "ipython3",
   "version": "3.9.12"
  }
 },
 "nbformat": 4,
 "nbformat_minor": 1
}
